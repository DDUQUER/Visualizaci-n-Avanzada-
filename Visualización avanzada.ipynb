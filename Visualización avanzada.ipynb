{
 "cells": [
  {
   "cell_type": "markdown",
   "id": "7152eed4",
   "metadata": {},
   "source": [
    "### 1. Importar todas las librerías necesarias."
   ]
  },
  {
   "cell_type": "code",
   "execution_count": 1,
   "id": "fd2b7220",
   "metadata": {},
   "outputs": [],
   "source": [
    "import random\n",
    "import pandas as pd\n",
    "import matplotlib.pyplot as plt\n",
    "import numpy as np\n",
    "import seaborn as sns"
   ]
  },
  {
   "cell_type": "markdown",
   "id": "3160867d",
   "metadata": {},
   "source": [
    "### 2. Inicializar algunas variables que después modificaremos. "
   ]
  },
  {
   "cell_type": "code",
   "execution_count": 2,
   "id": "1f66ee74",
   "metadata": {},
   "outputs": [],
   "source": [
    "mainhost = []\n",
    "dataset = []\n",
    "df = None"
   ]
  },
  {
   "cell_type": "markdown",
   "id": "f5f668b0",
   "metadata": {},
   "source": [
    "### 3. Crear una función para generar los hostnames en base a unas reglas"
   ]
  },
  {
   "cell_type": "code",
   "execution_count": 3,
   "id": "f01e682d",
   "metadata": {},
   "outputs": [],
   "source": [
    "def set_hostnames(number_of_hosts: int) -> None:\n",
    "    system = ['L']*4 + ['S']*3 + ['A']*2 + ['H']*1\n",
    "    entorno = ['D']*10 + ['I']*10 + ['T']*25 + ['S']*25 + ['P']*30\n",
    "    pais = ['NOR']*6 + ['FRA']*9 + ['ITA']*16 + ['ESP']*16 + ['DEU']*23 + ['IRL']*30\n",
    "    contar = []\n",
    "    \n",
    "    for i in range(number_of_hosts):\n",
    "        paises = random.choice(pais)\n",
    "        sistema_entorno = random.choice(system) + random.choice(entorno)\n",
    "        sistema_entorno += paises\n",
    "        contar.append(sistema_entorno)\n",
    "        sistema_entorno += str(contar.count(sistema_entorno)).zfill(3)\n",
    "        mainhost.append(sistema_entorno)"
   ]
  },
  {
   "cell_type": "markdown",
   "id": "730d6d7e",
   "metadata": {},
   "source": [
    "### 4. Crear una función para obtener el nombre del SO. "
   ]
  },
  {
   "cell_type": "code",
   "execution_count": 4,
   "id": "83bfa8ca",
   "metadata": {},
   "outputs": [],
   "source": [
    "def get_os(hostname: str) -> str:\n",
    "    if hostname.startswith('L'):\n",
    "        return 'Linux'\n",
    "    elif hostname.startswith('S'):\n",
    "        return 'Solaris'\n",
    "    elif hostname.startswith('A'):\n",
    "        return 'AIX'\n",
    "    elif hostname.startswith('H'):\n",
    "        return 'HP-UX'\n",
    "    else:\n",
    "        return 'Unknow'"
   ]
  },
  {
   "cell_type": "markdown",
   "id": "1e1a8da1",
   "metadata": {},
   "source": [
    "### 5. Crear una función para obtener el nombre del entorno. "
   ]
  },
  {
   "cell_type": "code",
   "execution_count": 5,
   "id": "a59efee5",
   "metadata": {},
   "outputs": [],
   "source": [
    "def get_enviroment(hostname: str) -> str:\n",
    "    if hostname[1] == 'D':\n",
    "        return 'Development'\n",
    "    elif hostname[1] == 'I':\n",
    "        return 'Integration'\n",
    "    elif hostname[1] == 'T':\n",
    "        return 'Testing'\n",
    "    elif hostname[1] == 'S':\n",
    "        return 'Staging'\n",
    "    elif hostname[1] == 'P':\n",
    "        return 'Production'\n",
    "    else:\n",
    "        return 'Unknow'"
   ]
  },
  {
   "cell_type": "markdown",
   "id": "e3d8870a",
   "metadata": {},
   "source": [
    "### 6. Creamos una función para obtener el nombre del país."
   ]
  },
  {
   "cell_type": "code",
   "execution_count": 6,
   "id": "c0b6770b",
   "metadata": {},
   "outputs": [],
   "source": [
    "def get_country(hostname: str) -> str:\n",
    "    if hostname[2:5] == 'NOR':\n",
    "        return 'Norway'\n",
    "    elif hostname[2:5] == 'FRA':\n",
    "        return 'France'\n",
    "    elif hostname[2:5] == 'ITA':\n",
    "        return 'Italy'\n",
    "    elif hostname[2:5] == 'ESP':\n",
    "        return 'Spain'\n",
    "    elif hostname[2:5] == 'DEU':\n",
    "        return 'Germany'\n",
    "    elif hostname[2:5] == 'IRL':\n",
    "        return 'Ireland'\n",
    "    else:\n",
    "        return 'Unknow'"
   ]
  },
  {
   "cell_type": "markdown",
   "id": "8af809a9",
   "metadata": {},
   "source": [
    "### 7. Crear una función para generar el DataFrame."
   ]
  },
  {
   "cell_type": "code",
   "execution_count": 7,
   "id": "66818336",
   "metadata": {},
   "outputs": [],
   "source": [
    "def set_dataframe(count: int) -> None:\n",
    "    global df \n",
    "    \n",
    "    set_hostnames(count)\n",
    "    \n",
    "    for hostname in mainhost:\n",
    "        dataset.append({\n",
    "            'hostname': hostname,\n",
    "            'os': get_os(hostname),\n",
    "            'enviroment': get_enviroment(hostname),\n",
    "            'country': get_country(hostname),\n",
    "            'node': int(hostname[-3:]) \n",
    "        })\n",
    "    df = pd.DataFrame(dataset)"
   ]
  },
  {
   "cell_type": "markdown",
   "id": "abec148f",
   "metadata": {},
   "source": [
    "### 8. Crear el DataFrame"
   ]
  },
  {
   "cell_type": "code",
   "execution_count": 8,
   "id": "d752d430",
   "metadata": {},
   "outputs": [],
   "source": [
    "set_dataframe(1500)"
   ]
  },
  {
   "cell_type": "code",
   "execution_count": 9,
   "id": "e13ac444",
   "metadata": {},
   "outputs": [
    {
     "data": {
      "text/html": [
       "<div>\n",
       "<style scoped>\n",
       "    .dataframe tbody tr th:only-of-type {\n",
       "        vertical-align: middle;\n",
       "    }\n",
       "\n",
       "    .dataframe tbody tr th {\n",
       "        vertical-align: top;\n",
       "    }\n",
       "\n",
       "    .dataframe thead th {\n",
       "        text-align: right;\n",
       "    }\n",
       "</style>\n",
       "<table border=\"1\" class=\"dataframe\">\n",
       "  <thead>\n",
       "    <tr style=\"text-align: right;\">\n",
       "      <th></th>\n",
       "      <th>hostname</th>\n",
       "      <th>os</th>\n",
       "      <th>enviroment</th>\n",
       "      <th>country</th>\n",
       "      <th>node</th>\n",
       "    </tr>\n",
       "  </thead>\n",
       "  <tbody>\n",
       "    <tr>\n",
       "      <th>0</th>\n",
       "      <td>ASITA001</td>\n",
       "      <td>AIX</td>\n",
       "      <td>Staging</td>\n",
       "      <td>Italy</td>\n",
       "      <td>1</td>\n",
       "    </tr>\n",
       "    <tr>\n",
       "      <th>1</th>\n",
       "      <td>HSFRA001</td>\n",
       "      <td>HP-UX</td>\n",
       "      <td>Staging</td>\n",
       "      <td>France</td>\n",
       "      <td>1</td>\n",
       "    </tr>\n",
       "    <tr>\n",
       "      <th>2</th>\n",
       "      <td>APESP001</td>\n",
       "      <td>AIX</td>\n",
       "      <td>Production</td>\n",
       "      <td>Spain</td>\n",
       "      <td>1</td>\n",
       "    </tr>\n",
       "    <tr>\n",
       "      <th>3</th>\n",
       "      <td>LPIRL001</td>\n",
       "      <td>Linux</td>\n",
       "      <td>Production</td>\n",
       "      <td>Ireland</td>\n",
       "      <td>1</td>\n",
       "    </tr>\n",
       "    <tr>\n",
       "      <th>4</th>\n",
       "      <td>LPIRL002</td>\n",
       "      <td>Linux</td>\n",
       "      <td>Production</td>\n",
       "      <td>Ireland</td>\n",
       "      <td>2</td>\n",
       "    </tr>\n",
       "    <tr>\n",
       "      <th>...</th>\n",
       "      <td>...</td>\n",
       "      <td>...</td>\n",
       "      <td>...</td>\n",
       "      <td>...</td>\n",
       "      <td>...</td>\n",
       "    </tr>\n",
       "    <tr>\n",
       "      <th>1495</th>\n",
       "      <td>LDFRA009</td>\n",
       "      <td>Linux</td>\n",
       "      <td>Development</td>\n",
       "      <td>France</td>\n",
       "      <td>9</td>\n",
       "    </tr>\n",
       "    <tr>\n",
       "      <th>1496</th>\n",
       "      <td>SDIRL012</td>\n",
       "      <td>Solaris</td>\n",
       "      <td>Development</td>\n",
       "      <td>Ireland</td>\n",
       "      <td>12</td>\n",
       "    </tr>\n",
       "    <tr>\n",
       "      <th>1497</th>\n",
       "      <td>LSESP024</td>\n",
       "      <td>Linux</td>\n",
       "      <td>Staging</td>\n",
       "      <td>Spain</td>\n",
       "      <td>24</td>\n",
       "    </tr>\n",
       "    <tr>\n",
       "      <th>1498</th>\n",
       "      <td>STDEU024</td>\n",
       "      <td>Solaris</td>\n",
       "      <td>Testing</td>\n",
       "      <td>Germany</td>\n",
       "      <td>24</td>\n",
       "    </tr>\n",
       "    <tr>\n",
       "      <th>1499</th>\n",
       "      <td>LSIRL052</td>\n",
       "      <td>Linux</td>\n",
       "      <td>Staging</td>\n",
       "      <td>Ireland</td>\n",
       "      <td>52</td>\n",
       "    </tr>\n",
       "  </tbody>\n",
       "</table>\n",
       "<p>1500 rows × 5 columns</p>\n",
       "</div>"
      ],
      "text/plain": [
       "      hostname       os   enviroment  country  node\n",
       "0     ASITA001      AIX      Staging    Italy     1\n",
       "1     HSFRA001    HP-UX      Staging   France     1\n",
       "2     APESP001      AIX   Production    Spain     1\n",
       "3     LPIRL001    Linux   Production  Ireland     1\n",
       "4     LPIRL002    Linux   Production  Ireland     2\n",
       "...        ...      ...          ...      ...   ...\n",
       "1495  LDFRA009    Linux  Development   France     9\n",
       "1496  SDIRL012  Solaris  Development  Ireland    12\n",
       "1497  LSESP024    Linux      Staging    Spain    24\n",
       "1498  STDEU024  Solaris      Testing  Germany    24\n",
       "1499  LSIRL052    Linux      Staging  Ireland    52\n",
       "\n",
       "[1500 rows x 5 columns]"
      ]
     },
     "execution_count": 9,
     "metadata": {},
     "output_type": "execute_result"
    }
   ],
   "source": [
    "df"
   ]
  },
  {
   "cell_type": "markdown",
   "id": "2d362b7c",
   "metadata": {},
   "source": [
    "### 9. Guardar el DataFrame generado en un fichero CSV"
   ]
  },
  {
   "cell_type": "code",
   "execution_count": 10,
   "id": "d9f8c98b",
   "metadata": {},
   "outputs": [],
   "source": [
    "df.to_csv('host.csv', index=False, header=True)"
   ]
  },
  {
   "cell_type": "code",
   "execution_count": 11,
   "id": "4ad7fc84",
   "metadata": {},
   "outputs": [],
   "source": [
    "hosts_df = pd.read_csv('host.csv')"
   ]
  },
  {
   "cell_type": "code",
   "execution_count": 12,
   "id": "68d2bd44",
   "metadata": {},
   "outputs": [
    {
     "data": {
      "text/html": [
       "<div>\n",
       "<style scoped>\n",
       "    .dataframe tbody tr th:only-of-type {\n",
       "        vertical-align: middle;\n",
       "    }\n",
       "\n",
       "    .dataframe tbody tr th {\n",
       "        vertical-align: top;\n",
       "    }\n",
       "\n",
       "    .dataframe thead th {\n",
       "        text-align: right;\n",
       "    }\n",
       "</style>\n",
       "<table border=\"1\" class=\"dataframe\">\n",
       "  <thead>\n",
       "    <tr style=\"text-align: right;\">\n",
       "      <th></th>\n",
       "      <th>hostname</th>\n",
       "      <th>os</th>\n",
       "      <th>enviroment</th>\n",
       "      <th>country</th>\n",
       "      <th>node</th>\n",
       "    </tr>\n",
       "  </thead>\n",
       "  <tbody>\n",
       "    <tr>\n",
       "      <th>0</th>\n",
       "      <td>ASITA001</td>\n",
       "      <td>AIX</td>\n",
       "      <td>Staging</td>\n",
       "      <td>Italy</td>\n",
       "      <td>1</td>\n",
       "    </tr>\n",
       "    <tr>\n",
       "      <th>1</th>\n",
       "      <td>HSFRA001</td>\n",
       "      <td>HP-UX</td>\n",
       "      <td>Staging</td>\n",
       "      <td>France</td>\n",
       "      <td>1</td>\n",
       "    </tr>\n",
       "    <tr>\n",
       "      <th>2</th>\n",
       "      <td>APESP001</td>\n",
       "      <td>AIX</td>\n",
       "      <td>Production</td>\n",
       "      <td>Spain</td>\n",
       "      <td>1</td>\n",
       "    </tr>\n",
       "    <tr>\n",
       "      <th>3</th>\n",
       "      <td>LPIRL001</td>\n",
       "      <td>Linux</td>\n",
       "      <td>Production</td>\n",
       "      <td>Ireland</td>\n",
       "      <td>1</td>\n",
       "    </tr>\n",
       "    <tr>\n",
       "      <th>4</th>\n",
       "      <td>LPIRL002</td>\n",
       "      <td>Linux</td>\n",
       "      <td>Production</td>\n",
       "      <td>Ireland</td>\n",
       "      <td>2</td>\n",
       "    </tr>\n",
       "    <tr>\n",
       "      <th>...</th>\n",
       "      <td>...</td>\n",
       "      <td>...</td>\n",
       "      <td>...</td>\n",
       "      <td>...</td>\n",
       "      <td>...</td>\n",
       "    </tr>\n",
       "    <tr>\n",
       "      <th>1495</th>\n",
       "      <td>LDFRA009</td>\n",
       "      <td>Linux</td>\n",
       "      <td>Development</td>\n",
       "      <td>France</td>\n",
       "      <td>9</td>\n",
       "    </tr>\n",
       "    <tr>\n",
       "      <th>1496</th>\n",
       "      <td>SDIRL012</td>\n",
       "      <td>Solaris</td>\n",
       "      <td>Development</td>\n",
       "      <td>Ireland</td>\n",
       "      <td>12</td>\n",
       "    </tr>\n",
       "    <tr>\n",
       "      <th>1497</th>\n",
       "      <td>LSESP024</td>\n",
       "      <td>Linux</td>\n",
       "      <td>Staging</td>\n",
       "      <td>Spain</td>\n",
       "      <td>24</td>\n",
       "    </tr>\n",
       "    <tr>\n",
       "      <th>1498</th>\n",
       "      <td>STDEU024</td>\n",
       "      <td>Solaris</td>\n",
       "      <td>Testing</td>\n",
       "      <td>Germany</td>\n",
       "      <td>24</td>\n",
       "    </tr>\n",
       "    <tr>\n",
       "      <th>1499</th>\n",
       "      <td>LSIRL052</td>\n",
       "      <td>Linux</td>\n",
       "      <td>Staging</td>\n",
       "      <td>Ireland</td>\n",
       "      <td>52</td>\n",
       "    </tr>\n",
       "  </tbody>\n",
       "</table>\n",
       "<p>1500 rows × 5 columns</p>\n",
       "</div>"
      ],
      "text/plain": [
       "      hostname       os   enviroment  country  node\n",
       "0     ASITA001      AIX      Staging    Italy     1\n",
       "1     HSFRA001    HP-UX      Staging   France     1\n",
       "2     APESP001      AIX   Production    Spain     1\n",
       "3     LPIRL001    Linux   Production  Ireland     1\n",
       "4     LPIRL002    Linux   Production  Ireland     2\n",
       "...        ...      ...          ...      ...   ...\n",
       "1495  LDFRA009    Linux  Development   France     9\n",
       "1496  SDIRL012  Solaris  Development  Ireland    12\n",
       "1497  LSESP024    Linux      Staging    Spain    24\n",
       "1498  STDEU024  Solaris      Testing  Germany    24\n",
       "1499  LSIRL052    Linux      Staging  Ireland    52\n",
       "\n",
       "[1500 rows x 5 columns]"
      ]
     },
     "execution_count": 12,
     "metadata": {},
     "output_type": "execute_result"
    }
   ],
   "source": [
    "hosts_df"
   ]
  },
  {
   "cell_type": "markdown",
   "id": "aacc81b4",
   "metadata": {},
   "source": [
    "### 10.Generar un único gráfico agrupando para cada país (country) los entornos (enviroment). "
   ]
  },
  {
   "cell_type": "code",
   "execution_count": 13,
   "id": "01045bbd",
   "metadata": {},
   "outputs": [
    {
     "data": {
      "text/plain": [
       "country  enviroment \n",
       "France   Development     16\n",
       "         Integration     12\n",
       "         Production      47\n",
       "         Staging         32\n",
       "         Testing         38\n",
       "Germany  Development     41\n",
       "         Integration     33\n",
       "         Production     117\n",
       "         Staging         96\n",
       "         Testing         72\n",
       "Ireland  Development     44\n",
       "         Integration     41\n",
       "         Production     141\n",
       "         Staging        114\n",
       "         Testing        116\n",
       "Italy    Development     27\n",
       "         Integration     16\n",
       "         Production      69\n",
       "         Staging         62\n",
       "         Testing         49\n",
       "Norway   Development      9\n",
       "         Integration     15\n",
       "         Production      19\n",
       "         Staging         23\n",
       "         Testing         20\n",
       "Spain    Development     14\n",
       "         Integration     24\n",
       "         Production      82\n",
       "         Staging         53\n",
       "         Testing         58\n",
       "dtype: int64"
      ]
     },
     "execution_count": 13,
     "metadata": {},
     "output_type": "execute_result"
    }
   ],
   "source": [
    "vx = hosts_df\n",
    "vx_group = vx.groupby(['country', vx['enviroment']]).size()\n",
    "vx_group"
   ]
  },
  {
   "cell_type": "code",
   "execution_count": 14,
   "id": "5ea947be",
   "metadata": {
    "scrolled": true
   },
   "outputs": [
    {
     "data": {
      "image/png": "[encoded data removed]",
      "text/plain": [
       "<Figure size 640x480 with 1 Axes>"
      ]
     },
     "metadata": {},
     "output_type": "display_data"
    }
   ],
   "source": [
    "vx_group.unstack().plot(kind='bar')\n",
    "plt.show;"
   ]
  },
  {
   "cell_type": "markdown",
   "id": "b8efc37e",
   "metadata": {},
   "source": [
    "### 11.Crear una figura con 4 gráficos en una malla de 2 filas y 2 columnas."
   ]
  },
  {
   "cell_type": "code",
   "execution_count": 15,
   "id": "7a8e51e9",
   "metadata": {},
   "outputs": [
    {
     "data": {
      "text/html": [
       "<div>\n",
       "<style scoped>\n",
       "    .dataframe tbody tr th:only-of-type {\n",
       "        vertical-align: middle;\n",
       "    }\n",
       "\n",
       "    .dataframe tbody tr th {\n",
       "        vertical-align: top;\n",
       "    }\n",
       "\n",
       "    .dataframe thead th {\n",
       "        text-align: right;\n",
       "    }\n",
       "</style>\n",
       "<table border=\"1\" class=\"dataframe\">\n",
       "  <thead>\n",
       "    <tr style=\"text-align: right;\">\n",
       "      <th>os</th>\n",
       "      <th>AIX</th>\n",
       "      <th>HP-UX</th>\n",
       "      <th>Linux</th>\n",
       "      <th>Solaris</th>\n",
       "    </tr>\n",
       "    <tr>\n",
       "      <th>country</th>\n",
       "      <th></th>\n",
       "      <th></th>\n",
       "      <th></th>\n",
       "      <th></th>\n",
       "    </tr>\n",
       "  </thead>\n",
       "  <tbody>\n",
       "    <tr>\n",
       "      <th>France</th>\n",
       "      <td>30</td>\n",
       "      <td>13</td>\n",
       "      <td>62</td>\n",
       "      <td>40</td>\n",
       "    </tr>\n",
       "    <tr>\n",
       "      <th>Germany</th>\n",
       "      <td>73</td>\n",
       "      <td>33</td>\n",
       "      <td>138</td>\n",
       "      <td>115</td>\n",
       "    </tr>\n",
       "    <tr>\n",
       "      <th>Ireland</th>\n",
       "      <td>92</td>\n",
       "      <td>39</td>\n",
       "      <td>188</td>\n",
       "      <td>137</td>\n",
       "    </tr>\n",
       "    <tr>\n",
       "      <th>Italy</th>\n",
       "      <td>41</td>\n",
       "      <td>25</td>\n",
       "      <td>96</td>\n",
       "      <td>61</td>\n",
       "    </tr>\n",
       "    <tr>\n",
       "      <th>Norway</th>\n",
       "      <td>17</td>\n",
       "      <td>13</td>\n",
       "      <td>32</td>\n",
       "      <td>24</td>\n",
       "    </tr>\n",
       "    <tr>\n",
       "      <th>Spain</th>\n",
       "      <td>50</td>\n",
       "      <td>24</td>\n",
       "      <td>100</td>\n",
       "      <td>57</td>\n",
       "    </tr>\n",
       "  </tbody>\n",
       "</table>\n",
       "</div>"
      ],
      "text/plain": [
       "os       AIX  HP-UX  Linux  Solaris\n",
       "country                            \n",
       "France    30     13     62       40\n",
       "Germany   73     33    138      115\n",
       "Ireland   92     39    188      137\n",
       "Italy     41     25     96       61\n",
       "Norway    17     13     32       24\n",
       "Spain     50     24    100       57"
      ]
     },
     "execution_count": 15,
     "metadata": {},
     "output_type": "execute_result"
    }
   ],
   "source": [
    "# Insumos para el grafico de la posición 0,0\n",
    "vm = hosts_df\n",
    "vm_group = vx.groupby(['country', vm['os']]).size().unstack()\n",
    "vm_group"
   ]
  },
  {
   "cell_type": "code",
   "execution_count": 16,
   "id": "4b451cad",
   "metadata": {},
   "outputs": [
    {
     "data": {
      "text/plain": [
       "os\n",
       "AIX        303\n",
       "HP-UX      147\n",
       "Linux      616\n",
       "Solaris    434\n",
       "dtype: int64"
      ]
     },
     "execution_count": 16,
     "metadata": {},
     "output_type": "execute_result"
    }
   ],
   "source": [
    "# Insumos para el grafico de la posicion 0,1\n",
    "os = hosts_df\n",
    "os_group = vx.groupby(['os']).size()\n",
    "os_group"
   ]
  },
  {
   "cell_type": "code",
   "execution_count": 17,
   "id": "a94d10ca",
   "metadata": {},
   "outputs": [
    {
     "data": {
      "text/plain": [
       "['AIX', 'HP-UX', 'Linux', 'Solaris']"
      ]
     },
     "execution_count": 17,
     "metadata": {},
     "output_type": "execute_result"
    }
   ],
   "source": [
    "array_os = os_group.values\n",
    "b = np.array([len(hosts_df)]*4)\n",
    "y = [p/a*100 for p, a in zip(array_os, b)]\n",
    "result = list(y)\n",
    "result = [round(zx, 2) for zx in result]\n",
    "rn = os_group.index.tolist()\n",
    "rn"
   ]
  },
  {
   "cell_type": "code",
   "execution_count": 18,
   "id": "69be7e93",
   "metadata": {},
   "outputs": [
    {
     "data": {
      "text/plain": [
       "['AIX(20.2% )', 'HP-UX(9.8% )', 'Linux(41.07% )', 'Solaris(28.93% )']"
      ]
     },
     "execution_count": 18,
     "metadata": {},
     "output_type": "execute_result"
    }
   ],
   "source": [
    "mnb = []\n",
    "index = os_group.index.tolist()\n",
    "for nj, yu in zip(rn, result):\n",
    "    mnb.append(nj + '('+ str(yu)+ '% )')\n",
    "mnb"
   ]
  },
  {
   "cell_type": "code",
   "execution_count": 19,
   "id": "01d213f5",
   "metadata": {},
   "outputs": [
    {
     "data": {
      "text/html": [
       "<div>\n",
       "<style scoped>\n",
       "    .dataframe tbody tr th:only-of-type {\n",
       "        vertical-align: middle;\n",
       "    }\n",
       "\n",
       "    .dataframe tbody tr th {\n",
       "        vertical-align: top;\n",
       "    }\n",
       "\n",
       "    .dataframe thead th {\n",
       "        text-align: right;\n",
       "    }\n",
       "</style>\n",
       "<table border=\"1\" class=\"dataframe\">\n",
       "  <thead>\n",
       "    <tr style=\"text-align: right;\">\n",
       "      <th>country</th>\n",
       "      <th>France</th>\n",
       "      <th>Germany</th>\n",
       "      <th>Ireland</th>\n",
       "      <th>Italy</th>\n",
       "      <th>Norway</th>\n",
       "      <th>Spain</th>\n",
       "    </tr>\n",
       "    <tr>\n",
       "      <th>enviroment</th>\n",
       "      <th></th>\n",
       "      <th></th>\n",
       "      <th></th>\n",
       "      <th></th>\n",
       "      <th></th>\n",
       "      <th></th>\n",
       "    </tr>\n",
       "  </thead>\n",
       "  <tbody>\n",
       "    <tr>\n",
       "      <th>Development</th>\n",
       "      <td>16</td>\n",
       "      <td>41</td>\n",
       "      <td>44</td>\n",
       "      <td>27</td>\n",
       "      <td>9</td>\n",
       "      <td>14</td>\n",
       "    </tr>\n",
       "    <tr>\n",
       "      <th>Integration</th>\n",
       "      <td>12</td>\n",
       "      <td>33</td>\n",
       "      <td>41</td>\n",
       "      <td>16</td>\n",
       "      <td>15</td>\n",
       "      <td>24</td>\n",
       "    </tr>\n",
       "    <tr>\n",
       "      <th>Production</th>\n",
       "      <td>47</td>\n",
       "      <td>117</td>\n",
       "      <td>141</td>\n",
       "      <td>69</td>\n",
       "      <td>19</td>\n",
       "      <td>82</td>\n",
       "    </tr>\n",
       "    <tr>\n",
       "      <th>Staging</th>\n",
       "      <td>32</td>\n",
       "      <td>96</td>\n",
       "      <td>114</td>\n",
       "      <td>62</td>\n",
       "      <td>23</td>\n",
       "      <td>53</td>\n",
       "    </tr>\n",
       "    <tr>\n",
       "      <th>Testing</th>\n",
       "      <td>38</td>\n",
       "      <td>72</td>\n",
       "      <td>116</td>\n",
       "      <td>49</td>\n",
       "      <td>20</td>\n",
       "      <td>58</td>\n",
       "    </tr>\n",
       "  </tbody>\n",
       "</table>\n",
       "</div>"
      ],
      "text/plain": [
       "country      France  Germany  Ireland  Italy  Norway  Spain\n",
       "enviroment                                                 \n",
       "Development      16       41       44     27       9     14\n",
       "Integration      12       33       41     16      15     24\n",
       "Production       47      117      141     69      19     82\n",
       "Staging          32       96      114     62      23     53\n",
       "Testing          38       72      116     49      20     58"
      ]
     },
     "execution_count": 19,
     "metadata": {},
     "output_type": "execute_result"
    }
   ],
   "source": [
    "# Insumos para el gráfico de la posición 1,1\n",
    "host = hosts_df\n",
    "host_group = host.groupby(['enviroment', host['country']]).size().unstack()\n",
    "host_group"
   ]
  },
  {
   "cell_type": "code",
   "execution_count": 20,
   "id": "abcb842b",
   "metadata": {},
   "outputs": [
    {
     "data": {
      "text/html": [
       "<div>\n",
       "<style scoped>\n",
       "    .dataframe tbody tr th:only-of-type {\n",
       "        vertical-align: middle;\n",
       "    }\n",
       "\n",
       "    .dataframe tbody tr th {\n",
       "        vertical-align: top;\n",
       "    }\n",
       "\n",
       "    .dataframe thead th {\n",
       "        text-align: right;\n",
       "    }\n",
       "</style>\n",
       "<table border=\"1\" class=\"dataframe\">\n",
       "  <thead>\n",
       "    <tr style=\"text-align: right;\">\n",
       "      <th></th>\n",
       "      <th>count</th>\n",
       "    </tr>\n",
       "    <tr>\n",
       "      <th>country</th>\n",
       "      <th></th>\n",
       "    </tr>\n",
       "  </thead>\n",
       "  <tbody>\n",
       "    <tr>\n",
       "      <th>Ireland</th>\n",
       "      <td>456</td>\n",
       "    </tr>\n",
       "    <tr>\n",
       "      <th>Germany</th>\n",
       "      <td>359</td>\n",
       "    </tr>\n",
       "    <tr>\n",
       "      <th>Spain</th>\n",
       "      <td>231</td>\n",
       "    </tr>\n",
       "    <tr>\n",
       "      <th>Italy</th>\n",
       "      <td>223</td>\n",
       "    </tr>\n",
       "    <tr>\n",
       "      <th>France</th>\n",
       "      <td>145</td>\n",
       "    </tr>\n",
       "    <tr>\n",
       "      <th>Norway</th>\n",
       "      <td>86</td>\n",
       "    </tr>\n",
       "  </tbody>\n",
       "</table>\n",
       "</div>"
      ],
      "text/plain": [
       "         count\n",
       "country       \n",
       "Ireland    456\n",
       "Germany    359\n",
       "Spain      231\n",
       "Italy      223\n",
       "France     145\n",
       "Norway      86"
      ]
     },
     "execution_count": 20,
     "metadata": {},
     "output_type": "execute_result"
    }
   ],
   "source": [
    "#Insumos para el grafico de la posición 1, 0\n",
    "klim = hosts_df\n",
    "klim_group = klim.groupby(['country']).size()\n",
    "klim_group = klim_group.to_frame('count')\n",
    "klim_group = klim_group.sort_values('count', ascending=False)\n",
    "klim_group"
   ]
  },
  {
   "cell_type": "code",
   "execution_count": 21,
   "id": "76c08cfe",
   "metadata": {},
   "outputs": [
    {
     "data": {
      "text/html": [
       "<div>\n",
       "<style scoped>\n",
       "    .dataframe tbody tr th:only-of-type {\n",
       "        vertical-align: middle;\n",
       "    }\n",
       "\n",
       "    .dataframe tbody tr th {\n",
       "        vertical-align: top;\n",
       "    }\n",
       "\n",
       "    .dataframe thead th {\n",
       "        text-align: right;\n",
       "    }\n",
       "</style>\n",
       "<table border=\"1\" class=\"dataframe\">\n",
       "  <thead>\n",
       "    <tr style=\"text-align: right;\">\n",
       "      <th></th>\n",
       "      <th>count</th>\n",
       "    </tr>\n",
       "    <tr>\n",
       "      <th>country</th>\n",
       "      <th></th>\n",
       "    </tr>\n",
       "  </thead>\n",
       "  <tbody>\n",
       "    <tr>\n",
       "      <th>Norway</th>\n",
       "      <td>86</td>\n",
       "    </tr>\n",
       "    <tr>\n",
       "      <th>France</th>\n",
       "      <td>145</td>\n",
       "    </tr>\n",
       "    <tr>\n",
       "      <th>Italy</th>\n",
       "      <td>223</td>\n",
       "    </tr>\n",
       "    <tr>\n",
       "      <th>Spain</th>\n",
       "      <td>231</td>\n",
       "    </tr>\n",
       "    <tr>\n",
       "      <th>Germany</th>\n",
       "      <td>359</td>\n",
       "    </tr>\n",
       "    <tr>\n",
       "      <th>Ireland</th>\n",
       "      <td>456</td>\n",
       "    </tr>\n",
       "  </tbody>\n",
       "</table>\n",
       "</div>"
      ],
      "text/plain": [
       "         count\n",
       "country       \n",
       "Norway      86\n",
       "France     145\n",
       "Italy      223\n",
       "Spain      231\n",
       "Germany    359\n",
       "Ireland    456"
      ]
     },
     "execution_count": 21,
     "metadata": {},
     "output_type": "execute_result"
    }
   ],
   "source": [
    "cx=klim_group.sort_values('count')\n",
    "cv = (cx['count']).to_list()\n",
    "cm = cx.index.to_list()\n",
    "cw = np.arange(len(cm))\n",
    "cx"
   ]
  },
  {
   "cell_type": "code",
   "execution_count": 22,
   "id": "0d3665cf",
   "metadata": {},
   "outputs": [
    {
     "data": {
      "image/png": "[encoded data removed]",
      "text/plain": [
       "<Figure size 1200x800 with 4 Axes>"
      ]
     },
     "metadata": {},
     "output_type": "display_data"
    }
   ],
   "source": [
    "fig, axs = plt.subplots(2, 2, figsize=(12, 8))\n",
    "\n",
    "vm_group.plot(kind='barh', ax=axs[0, 0])\n",
    "axs[0, 0].set_title('Type of OS grouped by country')\n",
    "\n",
    "ax = axs[0, 1]\n",
    "ax.pie(os_group, labels=os_group)\n",
    "ax.legend(mnb, bbox_to_anchor=(1, 1))\n",
    "ax.set_title('Total Operating Systems')\n",
    "\n",
    "paleta = sns.color_palette(\"dark:#5A9_r\") \n",
    "ax = sns.barplot(x=cx['count'], y=cx.index, palette = paleta, ax=axs[1, 0])\n",
    "axs[1, 0].set_title('Total hosts by country')\n",
    "axs[1, 0].set_xlabel('Number of hosts')\n",
    "axs[1, 0].set_xlim(0,max(klim_group['count'])+100)\n",
    "for yu, jb in zip(cw, cv):\n",
    "    axs[1, 0].annotate(str(jb), xy=(jb + 0.6, yu - 0.00005))\n",
    "\n",
    "host_group.plot(kind='bar', ax=axs[1, 1])\n",
    "axs[1, 1].set_title(' Hosts by country grouped by enviroment')\n",
    "axs[1, 1].set_ylabel('Number of hosts')\n",
    "\n",
    "fig.tight_layout()\n",
    "plt.show()"
   ]
  }
 ],
 "metadata": {
  "kernelspec": {
   "display_name": "Python 3 (ipykernel)",
   "language": "python",
   "name": "python3"
  },
  "language_info": {
   "codemirror_mode": {
    "name": "ipython",
    "version": 3
   },
   "file_extension": ".py",
   "mimetype": "text/x-python",
   "name": "python",
   "nbconvert_exporter": "python",
   "pygments_lexer": "ipython3",
   "version": "3.11.5"
  }
 },
 "nbformat": 4,
 "nbformat_minor": 5
}
