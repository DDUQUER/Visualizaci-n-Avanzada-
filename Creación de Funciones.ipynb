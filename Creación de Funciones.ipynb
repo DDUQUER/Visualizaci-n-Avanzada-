{
 "cells": [
  {
   "cell_type": "markdown",
   "id": "d61bb92a",
   "metadata": {},
   "source": [
    "# TAREA CURSO PYTHON"
   ]
  },
  {
   "cell_type": "markdown",
   "id": "58f74543",
   "metadata": {},
   "source": [
    "### Escriba una unica solución para cada ejercicio planteado, guarde el fichero y súbalo a la plataforma.\n",
    "### Si la solución cumple lo que el enunciado pide se considera superada, optar a la máxima nota supondrá además utilizar en cada caso la solución más eficiente y el uso de funciones cuando sea posible."
   ]
  },
  {
   "cell_type": "markdown",
   "id": "7ef92ba6",
   "metadata": {},
   "source": [
    "# EJERCICIO 1"
   ]
  },
  {
   "cell_type": "markdown",
   "id": "6be07813",
   "metadata": {},
   "source": [
    "### Cree una lista de 100 números aleatorios entre 1 y 100. Muéstrela tal como se ha generado, despues muestrela ordenada de menor a mayor."
   ]
  },
  {
   "cell_type": "code",
   "execution_count": 60,
   "id": "87e96c8b",
   "metadata": {},
   "outputs": [
    {
     "name": "stdout",
     "output_type": "stream",
     "text": [
      "\u001b[1;33mEsta es la lista generada aleatoriamente\u001b[0;m [64, 61, 46, 76, 65, 79, 11, 46, 37, 7, 31, 41, 20, 71, 4, 66, 48, 26, 47, 77, 10, 8, 41, 34, 16, 85, 100, 12, 39, 71, 16, 70, 58, 6, 5, 53, 69, 10, 1, 56, 61, 7, 99, 68, 33, 35, 42, 75, 70, 57, 25, 16, 37, 89, 4, 26, 77, 6, 32, 61, 54, 44, 45, 73, 89, 21, 71, 1, 95, 72, 79, 60, 67, 27, 43, 57, 46, 85, 52, 5, 73, 94, 42, 80, 41, 51, 34, 68, 14, 49, 86, 66, 24, 30, 19, 71, 74, 38, 60, 29]\n"
     ]
    }
   ],
   "source": [
    "def random():\n",
    "    import random\n",
    "    return random.randint(1, 100)\n",
    "\n",
    "mm = []\n",
    "for letra in range(100):\n",
    "    mm.append(random())\n",
    "print(\"\\033[1;33m\"+'Esta es la lista generada aleatoriamente''\\033[0;m',mm)"
   ]
  },
  {
   "cell_type": "code",
   "execution_count": 61,
   "id": "dfba4f8b",
   "metadata": {},
   "outputs": [
    {
     "name": "stdout",
     "output_type": "stream",
     "text": [
      "\u001b[1;33mEsta es la nueva lista ordenada\u001b[0;m [1, 1, 4, 4, 5, 5, 6, 6, 7, 7, 8, 10, 10, 11, 12, 14, 16, 16, 16, 19, 20, 21, 24, 25, 26, 26, 27, 29, 30, 31, 32, 33, 34, 34, 35, 37, 37, 38, 39, 41, 41, 41, 42, 42, 43, 44, 45, 46, 46, 46, 47, 48, 49, 51, 52, 53, 54, 56, 57, 57, 58, 60, 60, 61, 61, 61, 64, 65, 66, 66, 67, 68, 68, 69, 70, 70, 71, 71, 71, 71, 72, 73, 73, 74, 75, 76, 77, 77, 79, 79, 80, 85, 85, 86, 89, 89, 94, 95, 99, 100]\n"
     ]
    }
   ],
   "source": [
    "ordenada = []\n",
    "for o in range(len(mm)):\n",
    "    nx = min(mm)\n",
    "    ordenada.append(nx)\n",
    "    del mm[mm.index(nx)]\n",
    "print(\"\\033[1;33m\"+\"Esta es la nueva lista ordenada\"+'\\033[0;m',ordenada)"
   ]
  },
  {
   "cell_type": "markdown",
   "id": "abcae49f",
   "metadata": {},
   "source": [
    "# EJERCICIO 2"
   ]
  },
  {
   "cell_type": "markdown",
   "id": "d0df5666",
   "metadata": {},
   "source": [
    "### Realizamos un programa que gestione la lista anterior (desordenada) con las siguientes opciones:\n",
    "### 1.\tAñadir número a la lista\n",
    "### 2.\tEliminar numero según su posición\n",
    "### 3.\tVisualizar número según su posición\n",
    "### 4.\tOrdernar los números (se puede utilizar la función realizada en el ejercicio anterior)\n",
    "### 5.  Visualizar lista\n",
    "### 6.\tAñadir la lista al final del fichero c:\\EjerciciosPython\\Tarea.xlsx\n",
    "### 7.\tSalir\n"
   ]
  },
  {
   "cell_type": "code",
   "execution_count": 62,
   "id": "db5c8096",
   "metadata": {},
   "outputs": [],
   "source": [
    "wr = []\n",
    "ordenada = []\n",
    "def random():\n",
    "    import random\n",
    "    return random.randint(1, 100)\n",
    "def add(po):\n",
    "    if mm == wr:\n",
    "        ordenada.append(po)\n",
    "    else:\n",
    "        mm.append(po)\n",
    "def delete(mo):\n",
    "    if mm == wr:\n",
    "        del ordenada[mo-1]\n",
    "    else: \n",
    "        del mm[mo-1]\n",
    "def show(ir):\n",
    "    if mm == wr:\n",
    "        print(ordenada[ir-1])\n",
    "    else:\n",
    "        print(mm[ir-1])\n",
    "def order():\n",
    "    if ordenada == wr:\n",
    "        for o in range(len(mm)):\n",
    "            nx = min(mm)\n",
    "            ordenada.append(nx)\n",
    "            del mm[mm.index(nx)]\n",
    "    elif mm == wr:\n",
    "        for o in range(len(ordenada)):\n",
    "            nx = min(ordenada)\n",
    "            mm.append(nx)\n",
    "            del ordenada[ordenada.index(nx)]\n",
    "def view():\n",
    "    if mm == wr:\n",
    "        print(ordenada)\n",
    "    else:\n",
    "        print(mm)\n",
    "def excel():\n",
    "    import openpyxl as op\n",
    "    excel_document = op.Workbook()\n",
    "    Hoja = excel_document.active\n",
    "    filename = 'c:\\\\EjerciciosPython\\\\Tarea.xlsx'\n",
    "    if mm == wr:\n",
    "        for row in ordenada: #Aquí recorro las filas\n",
    "            Hoja.append([row])  \n",
    "        excel_document.save(filename)\n",
    "    else:\n",
    "        for row in mm: #Aquí recorro las filas\n",
    "            Hoja.append([row])  \n",
    "        excel_document.save(filename)\n",
    "def Menu():\n",
    "    print('1. Añadir número a la lista')\n",
    "    print('2. Eliminar numero según su posición')\n",
    "    print('3. Visualizar número según su posición')\n",
    "    print('4. Ordernar los números')\n",
    "    print('5. Visualizar lista')\n",
    "    print('6. Añadir la lista al final del fichero c:\\EjerciciosPython\\Tarea.xlsx')\n",
    "    print('7. Salir')\n",
    "def Valida(minimo, maximo):\n",
    "    opcion = 0 \n",
    "    if opcion < minimo or opcion > maximo and minimo!= 7 and maximo!= 7:\n",
    "        opcion = int(input('Escribe una opción entre 1 y 7 según lo que quieras hacer con la lista '))\n",
    "    return opcion"
   ]
  },
  {
   "cell_type": "code",
   "execution_count": 63,
   "id": "64eddc8b",
   "metadata": {},
   "outputs": [
    {
     "name": "stdout",
     "output_type": "stream",
     "text": [
      "1. Añadir número a la lista\n",
      "2. Eliminar numero según su posición\n",
      "3. Visualizar número según su posición\n",
      "4. Ordernar los números\n",
      "5. Visualizar lista\n",
      "6. Añadir la lista al final del fichero c:\\EjerciciosPython\\Tarea.xlsx\n",
      "7. Salir\n",
      "Escribe una opción entre 1 y 7 según lo que quieras hacer con la lista 5\n",
      "[14, 10, 1, 83, 39, 27, 63, 51, 67, 32, 5, 65, 22, 56, 99, 35, 13, 42, 15, 20, 14, 10, 69, 6, 13, 81, 68, 77, 54, 88, 4, 66, 66, 24, 74, 69, 83, 77, 64, 79, 74, 42, 33, 86, 11, 60, 43, 91, 16, 58, 42, 65, 53, 65, 53, 59, 10, 46, 56, 2, 15, 2, 11, 47, 72, 52, 52, 24, 6, 58, 34, 32, 100, 24, 39, 70, 41, 31, 34, 26, 18, 88, 63, 58, 29, 4, 46, 50, 94, 55, 89, 61, 59, 39, 59, 5, 73, 32, 46, 24]\n",
      "1. Añadir número a la lista\n",
      "2. Eliminar numero según su posición\n",
      "3. Visualizar número según su posición\n",
      "4. Ordernar los números\n",
      "5. Visualizar lista\n",
      "6. Añadir la lista al final del fichero c:\\EjerciciosPython\\Tarea.xlsx\n",
      "7. Salir\n",
      "Escribe una opción entre 1 y 7 según lo que quieras hacer con la lista 6\n",
      "1. Añadir número a la lista\n",
      "2. Eliminar numero según su posición\n",
      "3. Visualizar número según su posición\n",
      "4. Ordernar los números\n",
      "5. Visualizar lista\n",
      "6. Añadir la lista al final del fichero c:\\EjerciciosPython\\Tarea.xlsx\n",
      "7. Salir\n",
      "Escribe una opción entre 1 y 7 según lo que quieras hacer con la lista 4\n",
      "1. Añadir número a la lista\n",
      "2. Eliminar numero según su posición\n",
      "3. Visualizar número según su posición\n",
      "4. Ordernar los números\n",
      "5. Visualizar lista\n",
      "6. Añadir la lista al final del fichero c:\\EjerciciosPython\\Tarea.xlsx\n",
      "7. Salir\n",
      "Escribe una opción entre 1 y 7 según lo que quieras hacer con la lista 5\n",
      "[1, 2, 2, 4, 4, 5, 5, 6, 6, 10, 10, 10, 11, 11, 13, 13, 14, 14, 15, 15, 16, 18, 20, 22, 24, 24, 24, 24, 26, 27, 29, 31, 32, 32, 32, 33, 34, 34, 35, 39, 39, 39, 41, 42, 42, 42, 43, 46, 46, 46, 47, 50, 51, 52, 52, 53, 53, 54, 55, 56, 56, 58, 58, 58, 59, 59, 59, 60, 61, 63, 63, 64, 65, 65, 65, 66, 66, 67, 68, 69, 69, 70, 72, 73, 74, 74, 77, 77, 79, 81, 83, 83, 86, 88, 88, 89, 91, 94, 99, 100]\n",
      "1. Añadir número a la lista\n",
      "2. Eliminar numero según su posición\n",
      "3. Visualizar número según su posición\n",
      "4. Ordernar los números\n",
      "5. Visualizar lista\n",
      "6. Añadir la lista al final del fichero c:\\EjerciciosPython\\Tarea.xlsx\n",
      "7. Salir\n",
      "Escribe una opción entre 1 y 7 según lo que quieras hacer con la lista 6\n",
      "1. Añadir número a la lista\n",
      "2. Eliminar numero según su posición\n",
      "3. Visualizar número según su posición\n",
      "4. Ordernar los números\n",
      "5. Visualizar lista\n",
      "6. Añadir la lista al final del fichero c:\\EjerciciosPython\\Tarea.xlsx\n",
      "7. Salir\n",
      "Escribe una opción entre 1 y 7 según lo que quieras hacer con la lista 7\n",
      "¡Hasta una próxima!\n"
     ]
    }
   ],
   "source": [
    "mm = []\n",
    "for letra in range(100):\n",
    "    mm.append(random())\n",
    "while True:\n",
    "    Menu()\n",
    "    opcion = Valida(1,7)\n",
    "\n",
    "    if opcion == 1:\n",
    "        yei = int(input('Di el número que quieres agregar a la lista '))\n",
    "        add(yei)\n",
    "    elif opcion == 2:\n",
    "        op = int(input('Di la posición del numero que quieres eliminar '))\n",
    "        delete(op)\n",
    "    elif opcion == 3:\n",
    "        uc = int(input('Di la posición del cual quieres conocer su valor '))\n",
    "        show(uc)\n",
    "    elif opcion == 4:\n",
    "        order()\n",
    "    elif opcion == 5:\n",
    "        view()\n",
    "    elif opcion == 6:\n",
    "        excel()\n",
    "    elif opcion == 7:\n",
    "        print('¡Hasta una próxima!')\n",
    "        break"
   ]
  },
  {
   "cell_type": "markdown",
   "id": "86cbbe10",
   "metadata": {},
   "source": [
    "# EJERCICIO 3"
   ]
  },
  {
   "cell_type": "markdown",
   "id": "6267976f",
   "metadata": {},
   "source": [
    "### Crear una estructura que almacene el nombre, apellido, email, teléfono y nota de 10 alumnos. Mostrar gráficamente el número de aprobados y suspensos."
   ]
  },
  {
   "cell_type": "code",
   "execution_count": 2,
   "id": "3b40b62a",
   "metadata": {},
   "outputs": [
    {
     "name": "stdout",
     "output_type": "stream",
     "text": [
      "¿Cuál es el nombre del estudiante? y\n",
      "¿Cuál es el apellido del estudiante? x\n",
      "Dame el correo electronico del estudiante y@unal.edu.co\n",
      "¿Cómo es el número telefónico del estudiante? 213\n",
      "¿Cuál fue la nota del estudiante? (recuerda que la nota es entre 0 y 10)10\n",
      "¿Cuál es el nombre del estudiante? p\n",
      "¿Cuál es el apellido del estudiante? u\n",
      "Dame el correo electronico del estudiante p@unal.edu.co\n",
      "¿Cómo es el número telefónico del estudiante? 159\n",
      "¿Cuál fue la nota del estudiante? (recuerda que la nota es entre 0 y 10)8\n",
      "¿Cuál es el nombre del estudiante? o\n",
      "¿Cuál es el apellido del estudiante? u\n",
      "Dame el correo electronico del estudiante o@unal.edu.co\n",
      "¿Cómo es el número telefónico del estudiante? 456\n",
      "¿Cuál fue la nota del estudiante? (recuerda que la nota es entre 0 y 10)9\n",
      "¿Cuál es el nombre del estudiante? w\n",
      "¿Cuál es el apellido del estudiante? b\n",
      "Dame el correo electronico del estudiante w@unal.edu.co\n",
      "¿Cómo es el número telefónico del estudiante? 753\n",
      "¿Cuál fue la nota del estudiante? (recuerda que la nota es entre 0 y 10)4\n",
      "¿Cuál es el nombre del estudiante? ui\n",
      "¿Cuál es el apellido del estudiante? io\n",
      "Dame el correo electronico del estudiante ui@unal.edu.co\n",
      "¿Cómo es el número telefónico del estudiante? 786\n",
      "¿Cuál fue la nota del estudiante? (recuerda que la nota es entre 0 y 10)4\n",
      "¿Cuál es el nombre del estudiante? se\n",
      "¿Cuál es el apellido del estudiante? bn\n",
      "Dame el correo electronico del estudiante sev\n",
      "¿Cómo es el número telefónico del estudiante? 126\n",
      "¿Cuál fue la nota del estudiante? (recuerda que la nota es entre 0 y 10)7\n",
      "¿Cuál es el nombre del estudiante? hg\n",
      "¿Cuál es el apellido del estudiante? po\n",
      "Dame el correo electronico del estudiante hg@unal.edu.co\n",
      "¿Cómo es el número telefónico del estudiante? 193\n",
      "¿Cuál fue la nota del estudiante? (recuerda que la nota es entre 0 y 10)10\n",
      "¿Cuál es el nombre del estudiante? zx\n",
      "¿Cuál es el apellido del estudiante? cv\n",
      "Dame el correo electronico del estudiante zx@unal.edu.co\n",
      "¿Cómo es el número telefónico del estudiante? 95\n",
      "¿Cuál fue la nota del estudiante? (recuerda que la nota es entre 0 y 10)7\n",
      "¿Cuál es el nombre del estudiante? ig\n",
      "¿Cuál es el apellido del estudiante? lj\n",
      "Dame el correo electronico del estudiante ig@unal.edu.co\n",
      "¿Cómo es el número telefónico del estudiante? 459\n",
      "¿Cuál fue la nota del estudiante? (recuerda que la nota es entre 0 y 10)9\n",
      "¿Cuál es el nombre del estudiante? ds\n",
      "¿Cuál es el apellido del estudiante? fg\n",
      "Dame el correo electronico del estudiante ds@unal.edu.co\n",
      "¿Cómo es el número telefónico del estudiante? 568\n",
      "¿Cuál fue la nota del estudiante? (recuerda que la nota es entre 0 y 10)2\n"
     ]
    },
    {
     "data": {
      "text/html": [
       "<div>\n",
       "<style scoped>\n",
       "    .dataframe tbody tr th:only-of-type {\n",
       "        vertical-align: middle;\n",
       "    }\n",
       "\n",
       "    .dataframe tbody tr th {\n",
       "        vertical-align: top;\n",
       "    }\n",
       "\n",
       "    .dataframe thead th {\n",
       "        text-align: right;\n",
       "    }\n",
       "</style>\n",
       "<table border=\"1\" class=\"dataframe\">\n",
       "  <thead>\n",
       "    <tr style=\"text-align: right;\">\n",
       "      <th></th>\n",
       "      <th>Nombre</th>\n",
       "      <th>Apellido</th>\n",
       "      <th>email</th>\n",
       "      <th>Teléfono</th>\n",
       "      <th>Nota</th>\n",
       "    </tr>\n",
       "  </thead>\n",
       "  <tbody>\n",
       "    <tr>\n",
       "      <th>0</th>\n",
       "      <td>y</td>\n",
       "      <td>x</td>\n",
       "      <td>y@unal.edu.co</td>\n",
       "      <td>213</td>\n",
       "      <td>10</td>\n",
       "    </tr>\n",
       "    <tr>\n",
       "      <th>1</th>\n",
       "      <td>p</td>\n",
       "      <td>u</td>\n",
       "      <td>p@unal.edu.co</td>\n",
       "      <td>159</td>\n",
       "      <td>8</td>\n",
       "    </tr>\n",
       "    <tr>\n",
       "      <th>2</th>\n",
       "      <td>o</td>\n",
       "      <td>u</td>\n",
       "      <td>o@unal.edu.co</td>\n",
       "      <td>456</td>\n",
       "      <td>9</td>\n",
       "    </tr>\n",
       "    <tr>\n",
       "      <th>3</th>\n",
       "      <td>w</td>\n",
       "      <td>b</td>\n",
       "      <td>w@unal.edu.co</td>\n",
       "      <td>753</td>\n",
       "      <td>4</td>\n",
       "    </tr>\n",
       "    <tr>\n",
       "      <th>4</th>\n",
       "      <td>ui</td>\n",
       "      <td>io</td>\n",
       "      <td>ui@unal.edu.co</td>\n",
       "      <td>786</td>\n",
       "      <td>4</td>\n",
       "    </tr>\n",
       "    <tr>\n",
       "      <th>5</th>\n",
       "      <td>se</td>\n",
       "      <td>bn</td>\n",
       "      <td>sev</td>\n",
       "      <td>126</td>\n",
       "      <td>7</td>\n",
       "    </tr>\n",
       "    <tr>\n",
       "      <th>6</th>\n",
       "      <td>hg</td>\n",
       "      <td>po</td>\n",
       "      <td>hg@unal.edu.co</td>\n",
       "      <td>193</td>\n",
       "      <td>10</td>\n",
       "    </tr>\n",
       "    <tr>\n",
       "      <th>7</th>\n",
       "      <td>zx</td>\n",
       "      <td>cv</td>\n",
       "      <td>zx@unal.edu.co</td>\n",
       "      <td>95</td>\n",
       "      <td>7</td>\n",
       "    </tr>\n",
       "    <tr>\n",
       "      <th>8</th>\n",
       "      <td>ig</td>\n",
       "      <td>lj</td>\n",
       "      <td>ig@unal.edu.co</td>\n",
       "      <td>459</td>\n",
       "      <td>9</td>\n",
       "    </tr>\n",
       "    <tr>\n",
       "      <th>9</th>\n",
       "      <td>ds</td>\n",
       "      <td>fg</td>\n",
       "      <td>ds@unal.edu.co</td>\n",
       "      <td>568</td>\n",
       "      <td>2</td>\n",
       "    </tr>\n",
       "  </tbody>\n",
       "</table>\n",
       "</div>"
      ],
      "text/plain": [
       "  Nombre Apellido           email Teléfono Nota\n",
       "0      y        x   y@unal.edu.co      213   10\n",
       "1      p        u   p@unal.edu.co      159    8\n",
       "2      o        u   o@unal.edu.co      456    9\n",
       "3      w        b   w@unal.edu.co      753    4\n",
       "4     ui       io  ui@unal.edu.co      786    4\n",
       "5     se       bn             sev      126    7\n",
       "6     hg       po  hg@unal.edu.co      193   10\n",
       "7     zx       cv  zx@unal.edu.co       95    7\n",
       "8     ig       lj  ig@unal.edu.co      459    9\n",
       "9     ds       fg  ds@unal.edu.co      568    2"
      ]
     },
     "execution_count": 2,
     "metadata": {},
     "output_type": "execute_result"
    }
   ],
   "source": [
    "hu = {}\n",
    "mi = []\n",
    "for vm in range(10):\n",
    "    xr = []\n",
    "    bn = input('¿Cuál es el nombre del estudiante? ')\n",
    "    ms = input('¿Cuál es el apellido del estudiante? ')\n",
    "    ty = input('Dame el correo electronico del estudiante ')\n",
    "    nb = input('¿Cómo es el número telefónico del estudiante? ')\n",
    "    gh = int(input('¿Cuál fue la nota del estudiante? (recuerda que la nota es entre 0 y 10)'))\n",
    "    xr.append(bn)\n",
    "    xr.append(ms) \n",
    "    xr.append(ty) \n",
    "    xr.append(nb) \n",
    "    xr.append(gh)    \n",
    "    hu.update({vm:xr})\n",
    "    mi.append(gh)\n",
    "import pandas as pd\n",
    "indice = ['Nombre','Apellido','email','Teléfono','Nota']\n",
    "ir = pd.DataFrame(hu, index = indice)\n",
    "ir = ir.T\n",
    "ir"
   ]
  },
  {
   "cell_type": "code",
   "execution_count": 4,
   "id": "4758b882",
   "metadata": {
    "scrolled": true
   },
   "outputs": [
    {
     "data": {
      "image/png": "[encoded data removed]",
      "text/plain": [
       "<Figure size 640x480 with 1 Axes>"
      ]
     },
     "metadata": {},
     "output_type": "display_data"
    }
   ],
   "source": [
    "%matplotlib inline\n",
    "import matplotlib.pyplot as grafico\n",
    "yr = []\n",
    "for ga in range(len(mi)):\n",
    "    if mi[ga] >= 6:\n",
    "        yr.append('Aprobado')\n",
    "    elif mi[ga] <=5:\n",
    "        yr.append('Suspendido')\n",
    "nu = yr.count('Aprobado')\n",
    "mo = yr.count('Suspendido')\n",
    "zra = [nu,mo]\n",
    "cro = ['Aprobado','Suspendido']\n",
    "grafico.bar(cro,zra)\n",
    "grafico.title('Número de estudiantes que aprobaron y reprobaron')\n",
    "grafico.ylabel('Número de estudiantes')\n",
    "grafico.show()"
   ]
  },
  {
   "cell_type": "markdown",
   "id": "94ceb45b",
   "metadata": {},
   "source": [
    "# EJERCICIO 4"
   ]
  },
  {
   "cell_type": "markdown",
   "id": "31412bab",
   "metadata": {},
   "source": [
    "### Dada una lista con 10 palabras, se crea otra estructura (elegir lista o tupla) con esas 10 palabras donde cada palabra esté escrita al revés. Por ejemplo, la palabra \"casa\" estará escrita como \"asac\"."
   ]
  },
  {
   "cell_type": "code",
   "execution_count": 57,
   "id": "203ecc71",
   "metadata": {},
   "outputs": [],
   "source": [
    "def reves(lista,mm):\n",
    "    listareves = []\n",
    "    for inca in range(len(mm)):\n",
    "        listareves.append(lista[-(inca+1)])\n",
    "    return listareves\n",
    "def concatena(kjh,mi):\n",
    "    for oxc in range(len(kjh)):\n",
    "        for ud in range(len(kjh[oxc])):\n",
    "            if ud == 0:\n",
    "                xen = kjh[oxc][ud]\n",
    "            else:\n",
    "                xen += kjh[oxc][ud]\n",
    "        mi.append(xen)\n",
    "    return"
   ]
  },
  {
   "cell_type": "code",
   "execution_count": 59,
   "id": "c452a79b",
   "metadata": {},
   "outputs": [
    {
     "name": "stdout",
     "output_type": "stream",
     "text": [
      "Dame una palabra Ibague\n",
      "Dame una palabra Pereira\n",
      "Dame una palabra Rioacha\n",
      "Dame una palabra Neiva\n",
      "Dame una palabra Medellin\n",
      "Dame una palabra Bogota\n",
      "Dame una palabra Manizales\n",
      "Dame una palabra Leticia\n",
      "Dame una palabra Tunja\n",
      "Dame una palabra Popayan\n",
      "Esta es tu lista original ['Ibague', 'Pereira', 'Rioacha', 'Neiva', 'Medellin', 'Bogota', 'Manizales', 'Leticia', 'Tunja', 'Popayan']\n",
      "Esta es tu lista con las palabras al revés ['eugabI', 'ariereP', 'ahcaoiR', 'avieN', 'nilledeM', 'atogoB', 'selazinaM', 'aiciteL', 'ajnuT', 'nayapoP']\n"
     ]
    }
   ],
   "source": [
    "lista = []\n",
    "for eu in range(10):\n",
    "    rule = input('Dame una palabra ')\n",
    "    eu = lista.append(rule)\n",
    "print('Esta es tu lista original', lista)\n",
    "ki = []\n",
    "for jh in range(10):\n",
    "    mju = []\n",
    "    er = lista[jh]\n",
    "    for z in er[:]:\n",
    "        mju.append(z)\n",
    "    ki.append(mju)\n",
    "for hg in range(10):\n",
    "    ki[hg] = reves(ki[hg],ki[hg])\n",
    "cvn = []\n",
    "concatena(ki,cvn)\n",
    "print('Esta es tu lista con las palabras al revés', cvn) "
   ]
  }
 ],
 "metadata": {
  "kernelspec": {
   "display_name": "Python 3 (ipykernel)",
   "language": "python",
   "name": "python3"
  },
  "language_info": {
   "codemirror_mode": {
    "name": "ipython",
    "version": 3
   },
   "file_extension": ".py",
   "mimetype": "text/x-python",
   "name": "python",
   "nbconvert_exporter": "python",
   "pygments_lexer": "ipython3",
   "version": "3.11.5"
  }
 },
 "nbformat": 4,
 "nbformat_minor": 5
}
